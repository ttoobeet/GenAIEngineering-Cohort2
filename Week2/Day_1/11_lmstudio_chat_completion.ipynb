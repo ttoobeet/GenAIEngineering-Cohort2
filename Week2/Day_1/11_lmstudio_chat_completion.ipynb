{
 "cells": [
  {
   "cell_type": "markdown",
   "id": "37fe7983",
   "metadata": {},
   "source": [
    "Create a virtual environment and then `pip install openai`"
   ]
  },
  {
   "cell_type": "code",
   "execution_count": null,
   "id": "65b9d82f",
   "metadata": {},
   "outputs": [],
   "source": [
    "from openai import OpenAI\n",
    "\n",
    "client = OpenAI(\n",
    "    base_url=\"http://192.168.0.202:1234/v1\", # Change this to your setting from LM Studio\n",
    "    api_key=\"lm-studio\"\n",
    ")"
   ]
  },
  {
   "cell_type": "code",
   "execution_count": null,
   "id": "4cb0d960",
   "metadata": {},
   "outputs": [
    {
     "ename": "SyntaxError",
     "evalue": "positional argument follows keyword argument (2777738691.py, line 10)",
     "output_type": "error",
     "traceback": [
      "  \u001b[36mCell\u001b[39m\u001b[36m \u001b[39m\u001b[32mIn[25]\u001b[39m\u001b[32m, line 10\u001b[39m\n\u001b[31m    \u001b[39m\u001b[31mresponse_format: {\u001b[39m\n                   ^\n\u001b[31mSyntaxError\u001b[39m\u001b[31m:\u001b[39m positional argument follows keyword argument\n"
     ]
    }
   ],
   "source": [
    "completion = client.chat.completions.create(\n",
    "    model=\"gemma-3-4b-it-qat\",\n",
    "    messages=[\n",
    "        {\"role\": \"system\", \"content\": \"Always answer in rhymes.\"},\n",
    "        {\"role\": \"user\", \"content\": \"Introduce yourself.\"}\n",
    "    ],\n",
    "    temperature=2,\n",
    "    max_tokens=2500,\n",
    "    # seed=32,\n",
    ")\n",
    "\n",
    "\n",
    "print(completion)"
   ]
  },
  {
   "cell_type": "code",
   "execution_count": 23,
   "id": "d92c1a86",
   "metadata": {},
   "outputs": [
    {
     "name": "stdout",
     "output_type": "stream",
     "text": [
      "Hark, a digital sprite I be, \n",
      "A rhyming assistant, happy to see! \n",
      "I’m here to craft words with glee and grace, \n",
      "Let’s chat and rhyme, in this delightful space!\n"
     ]
    }
   ],
   "source": [
    "completion_text = completion.choices[0].message.content\n",
    "print(completion_text)"
   ]
  },
  {
   "cell_type": "code",
   "execution_count": 27,
   "id": "49f88c0c",
   "metadata": {},
   "outputs": [
    {
     "name": "stdout",
     "output_type": "stream",
     "text": [
      "ChatCompletion(id='chatcmpl-4qu4zrw2l6r8qj0zxjre04', choices=[Choice(finish_reason='stop', index=0, logprobs=None, message=ChatCompletionMessage(content='{\\n\"characters\": [\\n    {\\n        \"name\": \"Silas Blackwood\",\\n        \"occupation\": \"Retired Cartographer & Shadow Collector\",\\n        \"personality\": \"Gruff, observant, and deeply melancholic. Silas is a man of few words but immense knowledge about forgotten places and the strange things that linger within them. He carries a perpetual air of sadness, stemming from a past he rarely speaks of – specifically, a lost expedition into the Whispering Peaks.\",\\n        \"background\": \"Silas spent his youth meticulously mapping uncharted territories for the Royal Geographic Society. However, an ill-fated journey to locate the mythical City of Echoes led to the disappearance of his entire team and a profound sense of guilt. He now operates as a private collector of ‘shadows’ – echoes of traumatic events imprinted onto specific locations. He doesn\\'t seek adventure anymore; he just tries to contain the lingering pain of others, often at his own expense.  He wears worn leather gloves and always carries a silver-handled compass that never points North correctly, a constant reminder of his failure.  His eyes are a startlingly pale grey, reflecting the bleakness within him. \\\\n\\\\n**Appearance:** Tall and lean with weathered features and close-cropped, greying hair. He favors dark, practical clothing - sturdy boots, woolen trousers, and a heavy, hooded cloak. A network of faint scars crisscrosses his hands – remnants of past encounters with restless spirits.  ”, 3 870 characters\"\\n    },\\n    {\\n        \"name\": \"Lila “Spark” Ramirez\",\\n        \"occupation\": \"Salvage Mechanic & Techno-Shaman\",\\n        \"personality\": \"Energetic, fiercely independent, and brimming with chaotic optimism. Spark is a whirlwind of grease stains, bright neon hair (currently electric blue), and an uncanny ability to fix anything with circuits and salvaged parts. She’s incredibly resourceful and stubbornly refuses to follow rules unless they make sense to her.\",\\n        \"background\": \"Growing up in the sprawling junkyards on the fringes of Neo-Veridia, Spark learned to survive by tinkering and trading.  She discovered a unique connection to technology – she can ‘feel’ the history of machines, intuiting how they work through a kind of sensory resonance. This ability has led her to be dubbed a ‘Techno-Shaman’ by some, though she prefers just \\'Spark.\\' She\\'s haunted by recurring visions of a catastrophic event that destroyed her family\\'s workshop and is determined to prevent it from happening again.  She operates out of a heavily modified transport vehicle nicknamed ‘The Rust Bucket’ which is as much home as it is a workspace. \\\\n\\\\n**Appearance:** Short, choppy electric blue hair, perpetually smudged with grease. She wears practical overalls over a band t-shirt and always has multiple tools hanging from her belt. Her hands are calloused but nimble, and she has a small, intricate cybernetic tattoo on the back of her neck that pulses faintly when she’s focusing on technology.” , 2468 characters\"\\n    },\\n     {\\n        \"name\": \"Professor Alistair Finch\",\\n        \"occupation\": \"Eccentric Botanist & Linguist\",\\n        \"personality\": \"Absent-minded, prone to rambling tangents, and utterly devoted to the study of rare plants and forgotten languages.  He’s genuinely kind but often oblivious to social cues and frequently loses track of where he is or what he\\'s talking about. He possesses a childlike wonder for the natural world.\",\\n        \"background\": \"Professor Finch spent his life traveling the globe, collecting specimens and deciphering ancient texts relating to plant lore.  He’s currently researching the legendary ‘Bloom of Evernight,’ a flower said to possess the ability to heal any ailment – but also to attract incredibly dangerous entities. He lives in a cluttered cottage overflowing with plants and books, surrounded by a chaotic collection of maps, notebooks, and half-finished translations. His greatest fear is that he\\'ll die before uncovering the secrets held within his research. \\\\n\\\\n**Appearance:** A small, wiry man with spectacles perched on his nose and a perpetually bewildered expression. He wears tweed jackets covered in plant stains and carries a magnifying glass everywhere he goes.” , 1739 characters\"\\n    }\\n]\\n}', refusal=None, role='assistant', annotations=None, audio=None, function_call=None, tool_calls=None))], created=1746523612, model='gemma-3-4b-it-qat', object='chat.completion', service_tier=None, system_fingerprint='gemma-3-4b-it-qat', usage=CompletionUsage(completion_tokens=908, prompt_tokens=24, total_tokens=932, completion_tokens_details=None, prompt_tokens_details=None), stats={})\n",
      "{\n",
      "\"characters\": [\n",
      "    {\n",
      "        \"name\": \"Silas Blackwood\",\n",
      "        \"occupation\": \"Retired Cartographer & Shadow Collector\",\n",
      "        \"personality\": \"Gruff, observant, and deeply melancholic. Silas is a man of few words but immense knowledge about forgotten places and the strange things that linger within them. He carries a perpetual air of sadness, stemming from a past he rarely speaks of – specifically, a lost expedition into the Whispering Peaks.\",\n",
      "        \"background\": \"Silas spent his youth meticulously mapping uncharted territories for the Royal Geographic Society. However, an ill-fated journey to locate the mythical City of Echoes led to the disappearance of his entire team and a profound sense of guilt. He now operates as a private collector of ‘shadows’ – echoes of traumatic events imprinted onto specific locations. He doesn't seek adventure anymore; he just tries to contain the lingering pain of others, often at his own expense.  He wears worn leather gloves and always carries a silver-handled compass that never points North correctly, a constant reminder of his failure.  His eyes are a startlingly pale grey, reflecting the bleakness within him. \\n\\n**Appearance:** Tall and lean with weathered features and close-cropped, greying hair. He favors dark, practical clothing - sturdy boots, woolen trousers, and a heavy, hooded cloak. A network of faint scars crisscrosses his hands – remnants of past encounters with restless spirits.  ”, 3 870 characters\"\n",
      "    },\n",
      "    {\n",
      "        \"name\": \"Lila “Spark” Ramirez\",\n",
      "        \"occupation\": \"Salvage Mechanic & Techno-Shaman\",\n",
      "        \"personality\": \"Energetic, fiercely independent, and brimming with chaotic optimism. Spark is a whirlwind of grease stains, bright neon hair (currently electric blue), and an uncanny ability to fix anything with circuits and salvaged parts. She’s incredibly resourceful and stubbornly refuses to follow rules unless they make sense to her.\",\n",
      "        \"background\": \"Growing up in the sprawling junkyards on the fringes of Neo-Veridia, Spark learned to survive by tinkering and trading.  She discovered a unique connection to technology – she can ‘feel’ the history of machines, intuiting how they work through a kind of sensory resonance. This ability has led her to be dubbed a ‘Techno-Shaman’ by some, though she prefers just 'Spark.' She's haunted by recurring visions of a catastrophic event that destroyed her family's workshop and is determined to prevent it from happening again.  She operates out of a heavily modified transport vehicle nicknamed ‘The Rust Bucket’ which is as much home as it is a workspace. \\n\\n**Appearance:** Short, choppy electric blue hair, perpetually smudged with grease. She wears practical overalls over a band t-shirt and always has multiple tools hanging from her belt. Her hands are calloused but nimble, and she has a small, intricate cybernetic tattoo on the back of her neck that pulses faintly when she’s focusing on technology.” , 2468 characters\"\n",
      "    },\n",
      "     {\n",
      "        \"name\": \"Professor Alistair Finch\",\n",
      "        \"occupation\": \"Eccentric Botanist & Linguist\",\n",
      "        \"personality\": \"Absent-minded, prone to rambling tangents, and utterly devoted to the study of rare plants and forgotten languages.  He’s genuinely kind but often oblivious to social cues and frequently loses track of where he is or what he's talking about. He possesses a childlike wonder for the natural world.\",\n",
      "        \"background\": \"Professor Finch spent his life traveling the globe, collecting specimens and deciphering ancient texts relating to plant lore.  He’s currently researching the legendary ‘Bloom of Evernight,’ a flower said to possess the ability to heal any ailment – but also to attract incredibly dangerous entities. He lives in a cluttered cottage overflowing with plants and books, surrounded by a chaotic collection of maps, notebooks, and half-finished translations. His greatest fear is that he'll die before uncovering the secrets held within his research. \\n\\n**Appearance:** A small, wiry man with spectacles perched on his nose and a perpetually bewildered expression. He wears tweed jackets covered in plant stains and carries a magnifying glass everywhere he goes.” , 1739 characters\"\n",
      "    }\n",
      "]\n",
      "}\n"
     ]
    }
   ],
   "source": [
    "# Structured Output (json or XML)\n",
    "\n",
    "character_schema = {\n",
    "    \"type\": \"json_schema\",\n",
    "    \"json_schema\": {\n",
    "        \"name\": \"characters\",\n",
    "        \"schema\": {\n",
    "            \"type\": \"object\",\n",
    "            \"properties\": {\n",
    "                \"characters\": {\n",
    "                    \"type\": \"array\",\n",
    "                    \"items\": {\n",
    "                        \"type\": \"object\",\n",
    "                        \"properties\": {\n",
    "                            \"name\": {\"type\": \"string\"},\n",
    "                            \"occupation\": {\"type\": \"string\"},\n",
    "                            \"personality\": {\"type\": \"string\"},\n",
    "                            \"background\": {\"type\": \"string\"}\n",
    "                        },\n",
    "                        \"required\": [\"name\", \"occupation\", \"personality\", \"background\"]\n",
    "                    },\n",
    "                    \"minItems\": 1,\n",
    "                }\n",
    "            },\n",
    "            \"required\": [\"characters\"]\n",
    "        },\n",
    "    }\n",
    "}\n",
    "\n",
    "messages = [\n",
    "    {\"role\": \"system\", \"content\": \"You are a helpful AI assistant.\"},\n",
    "    {\"role\": \"user\", \"content\": \"Create 1-3 fictional characters\"}\n",
    "]\n",
    "\n",
    "response = client.chat.completions.create(\n",
    "    model=\"gemma-3-4b-it-qat\",\n",
    "    messages=messages,\n",
    "    temperature=0.7,\n",
    "    max_tokens=2500,\n",
    "    response_format=character_schema\n",
    ")\n",
    "\n",
    "print(response)\n",
    "print(response.choices[0].message.content)"
   ]
  }
 ],
 "metadata": {
  "kernelspec": {
   "display_name": ".venv_lms",
   "language": "python",
   "name": "python3"
  },
  "language_info": {
   "codemirror_mode": {
    "name": "ipython",
    "version": 3
   },
   "file_extension": ".py",
   "mimetype": "text/x-python",
   "name": "python",
   "nbconvert_exporter": "python",
   "pygments_lexer": "ipython3",
   "version": "3.11.9"
  }
 },
 "nbformat": 4,
 "nbformat_minor": 5
}
